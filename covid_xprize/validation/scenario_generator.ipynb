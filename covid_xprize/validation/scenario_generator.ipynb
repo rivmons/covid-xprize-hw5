{
 "cells": [
  {
   "cell_type": "raw",
   "metadata": {},
   "source": [
    "# Copyright 2020 (c) Cognizant Digital Business, Evolutionary AI. All rights reserved. Issued under the Apache 2.0 License."
   ]
  },
  {
   "cell_type": "code",
   "execution_count": null,
   "metadata": {},
   "outputs": [],
   "source": [
    "# Add the covid_xprize directory to the system path.\n",
    "import sys\n",
    "import os\n",
    "sys.path.append(os.path.dirname(os.path.dirname(os.path.abspath(''))))"
   ]
  },
  {
   "cell_type": "code",
   "execution_count": null,
   "metadata": {},
   "outputs": [],
   "source": [
    "from datetime import datetime\n",
    "import pandas as pd\n",
    "\n",
    "from covid_xprize.scoring.predictor_scoring import load_dataset\n",
    "from covid_xprize.validation.scenario_generator import generate_scenario\n",
    "from covid_xprize.validation.scenario_generator import phase1_update"
   ]
  },
  {
   "attachments": {},
   "cell_type": "markdown",
   "metadata": {},
   "source": [
    "# Scenario generator"
   ]
  },
  {
   "attachments": {},
   "cell_type": "markdown",
   "metadata": {},
   "source": [
    "## Latest data"
   ]
  },
  {
   "cell_type": "code",
   "execution_count": null,
   "metadata": {},
   "outputs": [],
   "source": [
    "LATEST_DATA_URL = \"https://raw.githubusercontent.com/OxCGRT/covid-policy-tracker-legacy/main/legacy_data_202207/OxCGRT_latest.csv\"\n",
    "GEO_FILE = \"../../countries_regions.csv\"\n",
    "latest_df = load_dataset(LATEST_DATA_URL, GEO_FILE)"
   ]
  },
  {
   "cell_type": "code",
   "execution_count": null,
   "metadata": {},
   "outputs": [],
   "source": [
    "len(latest_df.CountryName.unique())"
   ]
  },
  {
   "cell_type": "code",
   "execution_count": null,
   "metadata": {},
   "outputs": [],
   "source": [
    "len(latest_df.RegionName.unique())"
   ]
  },
  {
   "attachments": {},
   "cell_type": "markdown",
   "metadata": {},
   "source": [
    "# Scenario: historical IP until 2020-09-30\n",
    "Latest historical data, truncated to the specified end date"
   ]
  },
  {
   "cell_type": "code",
   "execution_count": null,
   "metadata": {},
   "outputs": [],
   "source": [
    "start_date_str = None\n",
    "end_date_str = \"2020-09-30\"\n",
    "countries = None\n",
    "output_file = \"data/2020-09-30_historical_ip.csv\""
   ]
  },
  {
   "cell_type": "code",
   "execution_count": null,
   "metadata": {},
   "outputs": [],
   "source": [
    "scenario_df = generate_scenario(start_date_str, end_date_str, latest_df, countries, scenario=\"Historical\")"
   ]
  },
  {
   "cell_type": "code",
   "execution_count": null,
   "metadata": {},
   "outputs": [],
   "source": [
    "scenario_df[scenario_df.CountryName == \"Italy\"].Date.max()"
   ]
  },
  {
   "cell_type": "code",
   "execution_count": null,
   "metadata": {},
   "outputs": [],
   "source": [
    "truncation_date = pd.to_datetime(end_date_str, format='%Y-%m-%d')\n",
    "scenario_df = scenario_df[scenario_df.Date <= truncation_date]"
   ]
  },
  {
   "cell_type": "code",
   "execution_count": null,
   "metadata": {},
   "outputs": [],
   "source": [
    "scenario_df.tail()"
   ]
  },
  {
   "cell_type": "code",
   "execution_count": null,
   "metadata": {},
   "outputs": [],
   "source": [
    "# Write to file\n",
    "# scenario_df.to_csv(output_file, index=False)"
   ]
  },
  {
   "attachments": {},
   "cell_type": "markdown",
   "metadata": {},
   "source": [
    "# Scenario: frozen NPIs\n",
    "Latest historical data + frozen NPIS between last known date and end of Januaray 2021 for India and Mexico"
   ]
  },
  {
   "attachments": {},
   "cell_type": "markdown",
   "metadata": {},
   "source": [
    "## Generate"
   ]
  },
  {
   "cell_type": "code",
   "execution_count": null,
   "metadata": {},
   "outputs": [],
   "source": [
    "start_date_str = \"2021-01-01\"\n",
    "end_date_str = \"2021-01-31\"\n",
    "countries = [\"India\", \"Mexico\"]"
   ]
  },
  {
   "cell_type": "code",
   "execution_count": null,
   "metadata": {},
   "outputs": [],
   "source": [
    "scenario_df = generate_scenario(start_date_str, end_date_str, latest_df, countries, scenario=\"Freeze\")"
   ]
  },
  {
   "cell_type": "code",
   "execution_count": null,
   "metadata": {},
   "outputs": [],
   "source": [
    "len(scenario_df)"
   ]
  },
  {
   "cell_type": "code",
   "execution_count": null,
   "metadata": {},
   "outputs": [],
   "source": [
    "scenario_df.CountryName.unique()"
   ]
  },
  {
   "cell_type": "code",
   "execution_count": null,
   "metadata": {},
   "outputs": [],
   "source": [
    "scenario_df.tail()"
   ]
  },
  {
   "attachments": {},
   "cell_type": "markdown",
   "metadata": {},
   "source": [
    "## Save"
   ]
  },
  {
   "cell_type": "code",
   "execution_count": null,
   "metadata": {},
   "outputs": [],
   "source": [
    "# Write to a file\n",
    "# hist_file_name = \"data/future_ip.csv\"\n",
    "# scenario_df.to_csv(hist_file_name, index=False)"
   ]
  },
  {
   "attachments": {},
   "cell_type": "markdown",
   "metadata": {},
   "source": [
    "# Scenario: specific set of NPIs, freeze"
   ]
  },
  {
   "attachments": {},
   "cell_type": "markdown",
   "metadata": {},
   "source": [
    "## Generate"
   ]
  },
  {
   "cell_type": "code",
   "execution_count": null,
   "metadata": {},
   "outputs": [],
   "source": [
    "MAX_NPIS_DICT = {\n",
    "    \"C1_School closing\": 3,\n",
    "    \"C2_Workplace closing\": 3,\n",
    "    \"C3_Cancel public events\": 2,\n",
    "    \"C4_Restrictions on gatherings\": 4,\n",
    "    \"C5_Close public transport\": 2,\n",
    "    \"C6_Stay at home requirements\": 3,\n",
    "    \"C7_Restrictions on internal movement\": 2,\n",
    "    \"C8_International travel controls\": 4,\n",
    "    \"E1_Income support\": 2,\n",
    "    \"E2_Debt/contract relief\": 2,\n",
    "    \"E3_Fiscal measures\": 1957600000000.00000,  # Max from file\n",
    "    \"E4_International support\": 834353051822.00000,  # Max from file\n",
    "    \"H1_Public information campaigns\": 2,\n",
    "    \"H2_Testing policy\": 3,\n",
    "    \"H3_Contact tracing\": 2,\n",
    "    \"H4_Emergency investment in healthcare\": 242400000000.00000,  # Max from file\n",
    "    \"H5_Investment in vaccines\": 100404615615.00000,  # Max from file\n",
    "    \"H6_Facial Coverings\": 4,\n",
    "    \"H7_Vaccination policy\": 5,\n",
    "    \"H8_Protection of elderly people\": 3,\n",
    "    # \"M1_Wildcard\": \"text\",  # Contains text\n",
    "    \"V1_Vaccine Prioritisation (summary)\": 2,\n",
    "    \"V2A_Vaccine Availability (summary)\": 3,\n",
    "    # \"V2B_Vaccine age eligibility/availability age floor (general population summary)\": \"0-4 yrs\",  # Lowest age group\n",
    "    # \"V2C_Vaccine age eligibility/availability age floor (at risk summary)\": \"0-4 yrs\",  # Lowest age group\n",
    "    \"V2D_Medically/ clinically vulnerable (Non-elderly)\": 3,\n",
    "    \"V2E_Education\": 2,\n",
    "    \"V2F_Frontline workers  (non healthcare)\": 2,\n",
    "    \"V2G_Frontline workers  (healthcare)\": 2,\n",
    "    \"V3_Vaccine Financial Support (summary)\": 5,\n",
    "    \"V4_Mandatory Vaccination (summary)\": 1\n",
    "}"
   ]
  },
  {
   "cell_type": "code",
   "execution_count": null,
   "metadata": {},
   "outputs": [],
   "source": [
    "start_date_str = \"2020-03-31\"\n",
    "end_date_str = \"2020-06-30\"\n",
    "countries = [\"India\", \"Mexico\"]"
   ]
  },
  {
   "cell_type": "code",
   "execution_count": null,
   "metadata": {},
   "outputs": [],
   "source": [
    "scenario_df = generate_scenario(start_date_str,\n",
    "                                end_date_str,\n",
    "                                latest_df,\n",
    "                                countries,\n",
    "                                scenario=\"Freeze\",\n",
    "                                max_npis_dict=MAX_NPIS_DICT)"
   ]
  },
  {
   "cell_type": "code",
   "execution_count": null,
   "metadata": {},
   "outputs": [],
   "source": [
    "scenario_df.tail()"
   ]
  },
  {
   "attachments": {},
   "cell_type": "markdown",
   "metadata": {},
   "source": [
    "## Save"
   ]
  },
  {
   "cell_type": "code",
   "execution_count": null,
   "metadata": {},
   "outputs": [],
   "source": [
    "# Write to a file\n",
    "# hist_file_name = \"data/future_ip.csv\"\n",
    "# scenario_df.to_csv(hist_file_name, index=False)"
   ]
  },
  {
   "attachments": {},
   "cell_type": "markdown",
   "metadata": {},
   "source": [
    "# Robojudge test: December\n",
    "IP file to test robojudge for the month of December"
   ]
  },
  {
   "attachments": {},
   "cell_type": "markdown",
   "metadata": {},
   "source": [
    "## Generate"
   ]
  },
  {
   "cell_type": "code",
   "execution_count": null,
   "metadata": {},
   "outputs": [],
   "source": [
    "today = datetime.utcnow().strftime('%Y%m%d_%H%M%S')\n",
    "start_date_str = \"2020-12-01\"\n",
    "end_date_str = \"2020-12-31\"\n",
    "latest_df = load_dataset(LATEST_DATA_URL, GEO_FILE)\n",
    "countries = None\n",
    "scenario_df = generate_scenario(start_date_str, end_date_str, latest_df, countries, scenario=\"Freeze\")"
   ]
  },
  {
   "cell_type": "code",
   "execution_count": null,
   "metadata": {},
   "outputs": [],
   "source": [
    "# Check: should contain all 366 days of 2020\n",
    "nb_countries = len(scenario_df.CountryName.unique())\n",
    "nb_regions = len(scenario_df.RegionName.unique()) - 1  # Ignore the '' region\n",
    "len(scenario_df) / (nb_countries + nb_regions)"
   ]
  },
  {
   "attachments": {},
   "cell_type": "markdown",
   "metadata": {},
   "source": [
    "## Save"
   ]
  },
  {
   "cell_type": "code",
   "execution_count": null,
   "metadata": {},
   "outputs": [],
   "source": [
    "from datetime import datetime\n",
    "sd = 20200101  # IP file always contains data since inception\n",
    "ed = end_date_str.replace('-', \"\")\n",
    "december_file_name = f\"../../../covid-xprize-robotasks/ips/tests/{today}_{sd}_{ed}_ips.csv\"\n",
    "scenario_df.to_csv(december_file_name, index=False)\n",
    "print(f\"Saved to {december_file_name}\")"
   ]
  },
  {
   "attachments": {},
   "cell_type": "markdown",
   "metadata": {},
   "source": [
    "# Robojudge: Official\n",
    "IP file robojudge uses for its daily submissions evaluation"
   ]
  },
  {
   "attachments": {},
   "cell_type": "markdown",
   "metadata": {},
   "source": [
    "## Generate"
   ]
  },
  {
   "cell_type": "code",
   "execution_count": null,
   "metadata": {},
   "outputs": [],
   "source": [
    "# Handle US Virgin Islands\n",
    "LATEST_DATA_URL = 'https://raw.githubusercontent.com/OxCGRT/covid-policy-tracker-legacy/main/legacy_data_202207/OxCGRT_latest.csv'\n",
    "PHASE1_FILE = \"../../countries_regions_phase1_fix.csv\"\n",
    "latest_df = load_dataset(LATEST_DATA_URL, PHASE1_FILE)\n",
    "latest_df = phase1_update(latest_df)"
   ]
  },
  {
   "cell_type": "code",
   "execution_count": null,
   "metadata": {},
   "outputs": [],
   "source": [
    "today = datetime.utcnow().strftime('%Y%m%d_%H%M%S')\n",
    "start_date_str = \"2020-12-22\"\n",
    "end_date_str = \"2021-06-19\"\n",
    "countries = None\n",
    "scenario_df = generate_scenario(start_date_str, end_date_str, latest_df, countries, scenario=\"Freeze\")"
   ]
  },
  {
   "cell_type": "code",
   "execution_count": null,
   "metadata": {},
   "outputs": [],
   "source": [
    "# Check: should contain 536 days:\n",
    "# 366 days of 2020 + 170 days of 2021 (10 days in 2020 + 170 days in 2021 = 180 days of eval)\n",
    "nb_countries = len(scenario_df.CountryName.unique())\n",
    "nb_regions = len(scenario_df.RegionName.unique()) - 1  # Ignore the 'nan' region\n",
    "len(scenario_df) / (nb_countries + nb_regions)"
   ]
  },
  {
   "cell_type": "code",
   "execution_count": null,
   "metadata": {},
   "outputs": [],
   "source": [
    "len(scenario_df.CountryName.unique())"
   ]
  },
  {
   "cell_type": "code",
   "execution_count": null,
   "metadata": {},
   "outputs": [],
   "source": [
    "len(scenario_df.RegionName.unique())"
   ]
  },
  {
   "attachments": {},
   "cell_type": "markdown",
   "metadata": {},
   "source": [
    "## Save"
   ]
  },
  {
   "cell_type": "code",
   "execution_count": null,
   "metadata": {},
   "outputs": [],
   "source": [
    "from datetime import datetime\n",
    "sd = start_date_str.replace('-', \"\")\n",
    "ed = end_date_str.replace('-', \"\")\n",
    "december_file_name = f\"../../../covid-xprize-robotasks/ips/live/{today}_{sd}_{ed}_ips.csv\"\n",
    "scenario_df.to_csv(december_file_name, index=False)\n",
    "print(f\"Saved to {december_file_name}\")"
   ]
  },
  {
   "attachments": {},
   "cell_type": "markdown",
   "metadata": {},
   "source": [
    "# Prescriptions"
   ]
  },
  {
   "attachments": {},
   "cell_type": "markdown",
   "metadata": {},
   "source": [
    "## UK future test"
   ]
  },
  {
   "cell_type": "code",
   "execution_count": null,
   "metadata": {},
   "outputs": [],
   "source": [
    "start_date_str = None\n",
    "end_date_str = \"2021-02-14\"\n",
    "latest_df = load_dataset(LATEST_DATA_URL, GEO_FILE)\n",
    "countries = [\"United Kingdom\"]\n",
    "scenario_df = generate_scenario(start_date_str, end_date_str, latest_df, countries, scenario=\"Freeze\")"
   ]
  },
  {
   "cell_type": "code",
   "execution_count": null,
   "metadata": {},
   "outputs": [],
   "source": [
    "scenario_df.to_csv(\"~/workspace/covid-xprize-robotasks/ips/prescriptions/uk_future_test_ips.csv\", index=False)"
   ]
  },
  {
   "attachments": {},
   "cell_type": "markdown",
   "metadata": {},
   "source": [
    "## All, past and future, test"
   ]
  },
  {
   "cell_type": "code",
   "execution_count": null,
   "metadata": {},
   "outputs": [],
   "source": [
    "start_date_str = None\n",
    "end_date_str = \"2020-12-31\"\n",
    "latest_df = load_dataset(LATEST_DATA_URL, GEO_FILE)\n",
    "countries = None\n",
    "scenario_df = generate_scenario(start_date_str, end_date_str, latest_df, countries, scenario=\"Historical\")"
   ]
  },
  {
   "cell_type": "code",
   "execution_count": null,
   "metadata": {},
   "outputs": [],
   "source": [
    "end_date = pd.to_datetime(end_date_str, format='%Y-%m-%d')"
   ]
  },
  {
   "cell_type": "code",
   "execution_count": null,
   "metadata": {},
   "outputs": [],
   "source": [
    "scenario_df = scenario_df[scenario_df.Date <= end_date]"
   ]
  },
  {
   "cell_type": "code",
   "execution_count": null,
   "metadata": {},
   "outputs": [],
   "source": [
    "scenario_df.Date.max()"
   ]
  },
  {
   "cell_type": "code",
   "execution_count": null,
   "metadata": {},
   "outputs": [],
   "source": [
    "scenario_df.to_csv(\"~/workspace/covid-xprize-robotasks/ips/prescriptions/all_2020_ips.csv\", index=False)"
   ]
  },
  {
   "attachments": {},
   "cell_type": "markdown",
   "metadata": {},
   "source": [
    "## China early 2020 test"
   ]
  },
  {
   "cell_type": "code",
   "execution_count": null,
   "metadata": {},
   "outputs": [],
   "source": [
    "start_date_str = None\n",
    "end_date_str = \"2020-02-14\"\n",
    "latest_df = load_dataset(LATEST_DATA_URL, GEO_FILE)\n",
    "countries = [\"China\"]\n",
    "scenario_df = generate_scenario(start_date_str, end_date_str, latest_df, countries, scenario=\"Historical\")"
   ]
  },
  {
   "cell_type": "code",
   "execution_count": null,
   "metadata": {},
   "outputs": [],
   "source": [
    "end_date = pd.to_datetime(end_date_str, format='%Y-%m-%d')\n",
    "scenario_df = scenario_df[scenario_df.Date <= end_date]"
   ]
  },
  {
   "cell_type": "code",
   "execution_count": null,
   "metadata": {},
   "outputs": [],
   "source": [
    "scenario_df.tail()"
   ]
  },
  {
   "cell_type": "code",
   "execution_count": null,
   "metadata": {},
   "outputs": [],
   "source": [
    "len(scenario_df)"
   ]
  },
  {
   "cell_type": "code",
   "execution_count": null,
   "metadata": {},
   "outputs": [],
   "source": [
    "scenario_df.to_csv(\"~/workspace/covid-xprize-robotasks/ips/prescriptions/china_early_2020_ips.csv\", index=False)"
   ]
  },
  {
   "cell_type": "code",
   "execution_count": null,
   "metadata": {},
   "outputs": [],
   "source": []
  }
 ],
 "metadata": {
  "kernelspec": {
   "display_name": "Python 3 (ipykernel)",
   "language": "python",
   "name": "python3"
  },
  "language_info": {
   "codemirror_mode": {
    "name": "ipython",
    "version": 3
   },
   "file_extension": ".py",
   "mimetype": "text/x-python",
   "name": "python",
   "nbconvert_exporter": "python",
   "pygments_lexer": "ipython3",
   "version": "3.10.11"
  }
 },
 "nbformat": 4,
 "nbformat_minor": 4
}
